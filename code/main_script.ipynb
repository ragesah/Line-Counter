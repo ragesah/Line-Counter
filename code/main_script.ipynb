{
 "cells": [
  {
   "cell_type": "code",
   "execution_count": 1,
   "id": "98fa7494",
   "metadata": {},
   "outputs": [],
   "source": [
    "# import packages\n",
    "from utils.func_loader import *"
   ]
  },
  {
   "cell_type": "code",
   "execution_count": 2,
   "id": "0c9dc2bf",
   "metadata": {
    "scrolled": true
   },
   "outputs": [
    {
     "name": "stdout",
     "output_type": "stream",
     "text": [
      "dir\\file1.txt 1\n",
      "dir\\file2.txt 2\n",
      "dir\\fold1\\file1.txt 1\n",
      "dir\\fold1\\file2.txt 1\n",
      "dir\\fold2\\sfold1\\file1.txt 1\n",
      "dir\\fold2\\sfold1\\file2.txt 4\n",
      "=====================\n",
      "\n",
      "Number of files found:  6\n",
      "Total number of lines:  10\n",
      "Average lines per file: 1.67\n"
     ]
    }
   ],
   "source": [
    "# main call\n",
    "file_format = 'txt'\n",
    "# dir_path = input('Enter directory path: ')\n",
    "dir_path =  'dir'\n",
    "no_of_files = [0]\n",
    "no_of_lines = [0]\n",
    "\n",
    "try:\n",
    "    folder_explorer(path=dir_path, nfiles=no_of_files, nlines=no_of_lines, fformat=file_format)\n",
    "\n",
    "    print(\"=====================\")\n",
    "    print('\\nNumber of files found:  {}'.format(no_of_files[0]))\n",
    "    print('Total number of lines:  {}'.format(no_of_lines[0]))\n",
    "    print('Average lines per file: {}'.format(round(no_of_lines[0]/no_of_files[0], 2)))\n",
    "except:\n",
    "    print('Error: Unknown error Occured...')"
   ]
  },
  {
   "cell_type": "markdown",
   "id": "f1140305",
   "metadata": {},
   "source": [
    "#### "
   ]
  }
 ],
 "metadata": {
  "kernelspec": {
   "display_name": "Python 3",
   "language": "python",
   "name": "python3"
  },
  "language_info": {
   "codemirror_mode": {
    "name": "ipython",
    "version": 3
   },
   "file_extension": ".py",
   "mimetype": "text/x-python",
   "name": "python",
   "nbconvert_exporter": "python",
   "pygments_lexer": "ipython3",
   "version": "3.8.8"
  }
 },
 "nbformat": 4,
 "nbformat_minor": 5
}
