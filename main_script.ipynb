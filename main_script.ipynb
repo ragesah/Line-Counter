{
 "cells": [
  {
   "cell_type": "code",
   "execution_count": 1,
   "id": "98fa7494",
   "metadata": {},
   "outputs": [
    {
     "ename": "ModuleNotFoundError",
     "evalue": "No module named 'utils'",
     "output_type": "error",
     "traceback": [
      "\u001b[1;31m---------------------------------------------------------------------------\u001b[0m",
      "\u001b[1;31mModuleNotFoundError\u001b[0m                       Traceback (most recent call last)",
      "\u001b[1;32m<ipython-input-1-d4657fee810a>\u001b[0m in \u001b[0;36m<module>\u001b[1;34m\u001b[0m\n\u001b[0;32m      1\u001b[0m \u001b[1;31m# import packages\u001b[0m\u001b[1;33m\u001b[0m\u001b[1;33m\u001b[0m\u001b[1;33m\u001b[0m\u001b[0m\n\u001b[1;32m----> 2\u001b[1;33m \u001b[1;32mfrom\u001b[0m \u001b[0mutils\u001b[0m\u001b[1;33m.\u001b[0m\u001b[0mfunc_loader\u001b[0m \u001b[1;32mimport\u001b[0m \u001b[1;33m*\u001b[0m\u001b[1;33m\u001b[0m\u001b[1;33m\u001b[0m\u001b[0m\n\u001b[0m",
      "\u001b[1;31mModuleNotFoundError\u001b[0m: No module named 'utils'"
     ]
    }
   ],
   "source": [
    "# import packages\n",
    "from utils.func_loader import *"
   ]
  },
  {
   "cell_type": "code",
   "execution_count": null,
   "id": "0c9dc2bf",
   "metadata": {
    "scrolled": true
   },
   "outputs": [],
   "source": [
    "# main call\n",
    "file_format = 'txt'\n",
    "# dir_path = input('Enter directory path: ')\n",
    "dir_path =  'dir'\n",
    "no_of_files = [0]\n",
    "no_of_lines = [0]\n",
    "\n",
    "try:\n",
    "    folder_explorer(path=dir_path, nfiles=no_of_files, nlines=no_of_lines, fformat=file_format)\n",
    "\n",
    "    print(\"=====================\")\n",
    "    print('\\nNumber of files found:  {}'.format(no_of_files[0]))\n",
    "    print('Total number of lines:  {}'.format(no_of_lines[0]))\n",
    "    print('Average lines per file: {}'.format(round(no_of_lines[0]/no_of_files[0], 2)))\n",
    "except:\n",
    "    print('Error: Unknown error Occured...')"
   ]
  },
  {
   "cell_type": "markdown",
   "id": "f1140305",
   "metadata": {},
   "source": [
    "#### "
   ]
  }
 ],
 "metadata": {
  "kernelspec": {
   "display_name": "Python 3",
   "language": "python",
   "name": "python3"
  },
  "language_info": {
   "codemirror_mode": {
    "name": "ipython",
    "version": 3
   },
   "file_extension": ".py",
   "mimetype": "text/x-python",
   "name": "python",
   "nbconvert_exporter": "python",
   "pygments_lexer": "ipython3",
   "version": "3.8.8"
  }
 },
 "nbformat": 4,
 "nbformat_minor": 5
}
